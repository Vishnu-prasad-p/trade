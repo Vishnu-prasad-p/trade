{
 "cells": [
  {
   "cell_type": "code",
   "execution_count": 2,
   "id": "1b76ae55-3fc9-4ca6-8a6d-f13878b2b299",
   "metadata": {},
   "outputs": [],
   "source": [
    "from telegram.ext.updater import Updater\n",
    "from telegram.update import Update\n",
    "from telegram.ext.callbackcontext import CallbackContext\n",
    "from telegram.ext.commandhandler import CommandHandler\n",
    "from telegram.ext.messagehandler import MessageHandler\n",
    "from telegram.ext.filters import Filters"
   ]
  },
  {
   "cell_type": "code",
   "execution_count": 3,
   "id": "2754d418-2de0-4f20-b777-b4ed252ac814",
   "metadata": {},
   "outputs": [],
   "source": [
    "updater = Updater(\"5854997589:AAHFPwDgHQBnNPJu6limDIYyi2Qgm23tubk\",use_context=True)"
   ]
  },
  {
   "cell_type": "code",
   "execution_count": 4,
   "id": "20ca58b8-2c4b-4427-93f7-f89a1b1a6695",
   "metadata": {},
   "outputs": [
    {
     "data": {
      "text/plain": [
       "<queue.Queue at 0x108b8d430>"
      ]
     },
     "execution_count": 4,
     "metadata": {},
     "output_type": "execute_result"
    }
   ],
   "source": [
    "def start(update: Update, context: CallbackContext):\n",
    "    update.message.reply_text(\n",
    "        \"Hello sir, Welcome to the Bot.Please write\\\n",
    "        /help to see the commands available.\")\n",
    "\n",
    "def help(update: Update, context: CallbackContext):\n",
    "    update.message.reply_text(\"\"\"Available Commands :-\n",
    "    /youtube - To get the youtube URL\n",
    "    /linkedin - To get the LinkedIn profile URL\n",
    "    /gmail - To get gmail URL\n",
    "    /geeks - To get the GeeksforGeeks URL\"\"\")\n",
    "  \n",
    "  \n",
    "def gmail_url(update: Update, context: CallbackContext):\n",
    "    update.message.reply_text(\n",
    "        \"Your gmail link here (I am not\\\n",
    "        giving mine one for security reasons)\")\n",
    "  \n",
    "  \n",
    "def youtube_url(update: Update, context: CallbackContext):\n",
    "    update.message.reply_text(\"Youtube Link =>\\\n",
    "    https://www.youtube.com/\")\n",
    "  \n",
    "  \n",
    "def linkedIn_url(update: Update, context: CallbackContext):\n",
    "    update.message.reply_text(\n",
    "        \"LinkedIn URL => \\\n",
    "        https://www.linkedin.com/in/dwaipayan-bandyopadhyay-007a/\")\n",
    "  \n",
    "  \n",
    "def geeks_url(update: Update, context: CallbackContext):\n",
    "    update.message.reply_text(\n",
    "        \"GeeksforGeeks URL => https://www.geeksforgeeks.org/\")\n",
    "  \n",
    "  \n",
    "def unknown(update: Update, context: CallbackContext):\n",
    "    update.message.reply_text(\n",
    "        \"Sorry '%s' is not a valid command\" % update.message.text)\n",
    "  \n",
    "  \n",
    "def unknown_text(update: Update, context: CallbackContext):\n",
    "    update.message.reply_text(\n",
    "        \"Sorry I can't recognize you , you said '%s'\" % update.message.text)\n",
    "  \n",
    "  \n",
    "updater.dispatcher.add_handler(CommandHandler('start', start))\n",
    "updater.dispatcher.add_handler(CommandHandler('youtube', youtube_url))\n",
    "updater.dispatcher.add_handler(CommandHandler('help', help))\n",
    "updater.dispatcher.add_handler(CommandHandler('linkedin', linkedIn_url))\n",
    "updater.dispatcher.add_handler(CommandHandler('gmail', gmail_url))\n",
    "updater.dispatcher.add_handler(CommandHandler('geeks', geeks_url))\n",
    "updater.dispatcher.add_handler(MessageHandler(Filters.text, unknown))\n",
    "updater.dispatcher.add_handler(MessageHandler(\n",
    "    Filters.command, unknown))  # Filters out unknown commands\n",
    "  \n",
    "# Filters out unknown messages.\n",
    "updater.dispatcher.add_handler(MessageHandler(Filters.text, unknown_text))\n",
    "  \n",
    "updater.start_polling()"
   ]
  },
  {
   "cell_type": "code",
   "execution_count": null,
   "id": "7d4af0c1-4914-48b0-8155-e5d826be8805",
   "metadata": {},
   "outputs": [],
   "source": []
  }
 ],
 "metadata": {
  "kernelspec": {
   "display_name": "Python 3 (ipykernel)",
   "language": "python",
   "name": "python3"
  },
  "language_info": {
   "codemirror_mode": {
    "name": "ipython",
    "version": 3
   },
   "file_extension": ".py",
   "mimetype": "text/x-python",
   "name": "python",
   "nbconvert_exporter": "python",
   "pygments_lexer": "ipython3",
   "version": "3.8.2"
  }
 },
 "nbformat": 4,
 "nbformat_minor": 5
}
