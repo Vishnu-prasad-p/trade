{
 "cells": [
  {
   "cell_type": "code",
   "execution_count": 2,
   "id": "65021425-e5c9-4d0e-81d9-53ff0f8cf5d1",
   "metadata": {},
   "outputs": [],
   "source": [
    "import pandas as pd"
   ]
  },
  {
   "cell_type": "code",
   "execution_count": 15,
   "id": "fece7b78-e2d3-4453-960d-08dda58e846e",
   "metadata": {},
   "outputs": [],
   "source": [
    "portfolio = pd.read_csv('portfolio.csv')"
   ]
  },
  {
   "cell_type": "code",
   "execution_count": 26,
   "id": "fab6286a-75e1-442c-879b-8efed3f14938",
   "metadata": {},
   "outputs": [],
   "source": [
    "portfolio = portfolio.set_index('Date',drop=True)"
   ]
  },
  {
   "cell_type": "code",
   "execution_count": 27,
   "id": "1f27a717-e282-4bf5-b5f0-2312aa755c35",
   "metadata": {},
   "outputs": [],
   "source": [
    "from pypfopt.expected_returns import mean_historical_return\n",
    "from pypfopt.risk_models import CovarianceShrinkage\n",
    "\n",
    "\n",
    "mu = mean_historical_return(portfolio)\n",
    "S = CovarianceShrinkage(portfolio).ledoit_wolf()"
   ]
  },
  {
   "cell_type": "code",
   "execution_count": 29,
   "id": "64699cd6-aa0d-4dbf-9e73-de8460523a8d",
   "metadata": {},
   "outputs": [
    {
     "name": "stdout",
     "output_type": "stream",
     "text": [
      "{'DIVISLAB': 0.0, 'CIPLA': 0.21277, 'APOLLOHOSP': 0.04568, 'SUNPHARMA': 0.0, 'DRREDDY': 0.0, 'HCLTECH': 0.0, 'TECHM': 0.0, 'NESTLEIND': 0.0, 'TCS': 0.0, 'INFY': 0.0, 'SBILIFE': 0.0, 'WIPRO': 0.0, 'BAJAJ-AUTO': 0.0, 'HINDUNILVR': 0.0, 'UPL': 0.0, 'HINDALCO': 0.0, 'JSWSTEEL': 0.0, 'ASIANPAINT': 0.0, 'POWERGRID': 0.0, 'HEROMOTOCO': 0.0, 'TATACONSUM': 0.0, 'TITAN': 0.0, 'M&M': 0.0, 'LT': 0.0, 'HDFCBANK': 0.0, 'HDFCLIFE': 0.0, 'COALINDIA': 0.0, 'NTPC': 0.0, 'TATASTEEL': 0.0, 'ITC': 0.0, 'EICHERMOT': 0.0, 'HDFC': 0.0, 'GRASIM': 0.0, 'RELIANCE': 0.0, 'ONGC': 0.0, 'SBIN': 0.0, 'BHARTIARTL': 0.0, 'KOTAKBANK': 0.0, 'BAJFINANCE': 0.0, 'ICICIBANK': 0.0, 'AXISBANK': 0.0, 'TATAMOTORS': 0.0, 'BPCL': 0.0, 'BRITANNIA': 0.0, 'MARUTI': 0.0, 'BAJAJFINSV': 0.0, 'INDUSINDBK': 0.0, 'ULTRACEMCO': 0.0, 'ADANIPORTS': 0.0, 'ADANIENT': 0.74155}\n"
     ]
    }
   ],
   "source": [
    "from pypfopt.efficient_frontier import EfficientFrontier\n",
    "\n",
    "ef = EfficientFrontier(mu, S)\n",
    "weights = ef.max_sharpe()\n",
    "\n",
    "cleaned_weights = ef.clean_weights()\n",
    "print(dict(cleaned_weights))"
   ]
  },
  {
   "cell_type": "code",
   "execution_count": 30,
   "id": "e4ed8b6d-7ae6-44e2-bfe4-5819a56e0e7c",
   "metadata": {},
   "outputs": [
    {
     "name": "stdout",
     "output_type": "stream",
     "text": [
      "Expected annual return: 133.4%\n",
      "Annual volatility: 36.9%\n",
      "Sharpe Ratio: 3.56\n"
     ]
    },
    {
     "data": {
      "text/plain": [
       "(1.3340573856452884, 0.3693415176399568, 3.557838268608253)"
      ]
     },
     "execution_count": 30,
     "metadata": {},
     "output_type": "execute_result"
    }
   ],
   "source": [
    "ef.portfolio_performance(verbose=True)"
   ]
  },
  {
   "cell_type": "code",
   "execution_count": 34,
   "id": "31955d1a-acb1-4e3d-ab31-8b657fe908a2",
   "metadata": {},
   "outputs": [
    {
     "name": "stdout",
     "output_type": "stream",
     "text": [
      "Discrete allocation: {'ADANIENT': 7, 'CIPLA': 7, 'APOLLOHOSP': 1}\n",
      "Funds remaining: Rs.24.15\n"
     ]
    }
   ],
   "source": [
    "from pypfopt.discrete_allocation import DiscreteAllocation, get_latest_prices\n",
    "\n",
    "latest_prices = get_latest_prices(portfolio)\n",
    "\n",
    "da = DiscreteAllocation(weights, latest_prices, total_portfolio_value=40000)\n",
    "\n",
    "allocation, leftover = da.greedy_portfolio()\n",
    "print(\"Discrete allocation:\", allocation)\n",
    "print(\"Funds remaining: Rs.{:.2f}\".format(leftover))"
   ]
  },
  {
   "cell_type": "code",
   "execution_count": null,
   "id": "74d53008-c7a0-4c04-b592-86c630223101",
   "metadata": {},
   "outputs": [],
   "source": []
  }
 ],
 "metadata": {
  "kernelspec": {
   "display_name": "Python 3 (ipykernel)",
   "language": "python",
   "name": "python3"
  },
  "language_info": {
   "codemirror_mode": {
    "name": "ipython",
    "version": 3
   },
   "file_extension": ".py",
   "mimetype": "text/x-python",
   "name": "python",
   "nbconvert_exporter": "python",
   "pygments_lexer": "ipython3",
   "version": "3.8.2"
  }
 },
 "nbformat": 4,
 "nbformat_minor": 5
}
